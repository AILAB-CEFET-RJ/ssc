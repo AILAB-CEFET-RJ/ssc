{
  "nbformat": 4,
  "nbformat_minor": 0,
  "metadata": {
    "colab": {
      "provenance": []
    },
    "kernelspec": {
      "name": "python3",
      "display_name": "Python 3"
    },
    "language_info": {
      "name": "python"
    }
  },
  "cells": [
    {
      "cell_type": "code",
      "execution_count": 13,
      "metadata": {
        "id": "tcV69svlaV63"
      },
      "outputs": [],
      "source": [
        "from sklearn.metrics import normalized_mutual_info_score\n",
        "from sklearn import datasets\n",
        "import subprocess"
      ]
    },
    {
      "cell_type": "code",
      "source": [
        "# Rodando run_ckm.py N vezes\n",
        "mat = []\n",
        "mat = subprocess.run(['python3', '/content/copkmeans/run_ckm.py', '/content/examples/iris.data', '/content/examples/iris.constraints', '5', '--ofile', 'output.txt'])"
      ],
      "metadata": {
        "id": "kVibqzGtePFR"
      },
      "execution_count": 34,
      "outputs": []
    },
    {
      "cell_type": "code",
      "source": [
        "# Carregar o conjunto de dados Iris para obter os rótulos verdadeiros\n",
        "iris = datasets.load_iris()\n",
        "clusters_true = iris.target"
      ],
      "metadata": {
        "id": "w0bSPaJMeBkN"
      },
      "execution_count": 35,
      "outputs": []
    },
    {
      "cell_type": "code",
      "source": [
        "# Carregar os rótulos previstos do arquivo output.txt\n",
        "with open(\"/content/output.txt\", \"r\") as f:\n",
        "  clusters_pred = [int(line.strip()) for line in f]\n"
      ],
      "metadata": {
        "id": "RwjaYkyYeCiu"
      },
      "execution_count": 39,
      "outputs": []
    },
    {
      "cell_type": "code",
      "source": [
        "# Calcular a NMI\n",
        "nmi = normalized_mutual_info_score(clusters_true, clusters_pred)\n",
        "print(f\"NMI: {nmi:.4f}\")"
      ],
      "metadata": {
        "colab": {
          "base_uri": "https://localhost:8080/"
        },
        "id": "V8Tpo5FWeFWc",
        "outputId": "51f41bfb-9956-4199-a149-3ac332b05cc8"
      },
      "execution_count": 42,
      "outputs": [
        {
          "output_type": "stream",
          "name": "stdout",
          "text": [
            "NMI: 0.7474\n"
          ]
        }
      ]
    },
    {
      "cell_type": "code",
      "source": [],
      "metadata": {
        "id": "WPcseMSWhQk2"
      },
      "execution_count": null,
      "outputs": []
    }
  ]
}